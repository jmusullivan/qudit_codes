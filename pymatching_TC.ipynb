{
 "cells": [
  {
   "cell_type": "code",
   "execution_count": 1,
   "metadata": {},
   "outputs": [],
   "source": [
    "import numpy as np\n",
    "import matplotlib.pyplot as plt\n",
    "from scipy.sparse import hstack, kron, eye, csc_matrix, block_diag"
   ]
  },
  {
   "cell_type": "markdown",
   "metadata": {},
   "source": [
    "# Pymatching tutorial"
   ]
  },
  {
   "cell_type": "markdown",
   "metadata": {},
   "source": [
    "Lets start with the lattice"
   ]
  },
  {
   "cell_type": "code",
   "execution_count": 2,
   "metadata": {},
   "outputs": [],
   "source": [
    "def repetition_code(n):\n",
    "    \"\"\"\n",
    "    Parity check matrix of a repetition code with length n.\n",
    "    \"\"\"\n",
    "    row_ind, col_ind = zip(*((i, j) for i in range(n) for j in (i, (i+1)%n)))\n",
    "    data = np.ones(2*n, dtype=np.uint8)\n",
    "    return csc_matrix((data, (row_ind, col_ind))) # M[row[i], col[i]] = data[i]\n",
    "\n",
    "def toric_code_x_stabilisers(L):\n",
    "    \"\"\"\n",
    "    Sparse check matrix for the X stabilisers of a toric code with\n",
    "    lattice size L, constructed as the hypergraph product of\n",
    "    two repetition codes.\n",
    "    \"\"\"\n",
    "    Hr = repetition_code(L)\n",
    "    H = hstack(\n",
    "            [kron(Hr, eye(Hr.shape[1])), kron(eye(Hr.shape[0]), Hr.T)],\n",
    "            dtype=np.uint8\n",
    "        )\n",
    "    H.data = H.data % 2\n",
    "    H.eliminate_zeros()\n",
    "    return csc_matrix(H)"
   ]
  },
  {
   "cell_type": "markdown",
   "metadata": {},
   "source": [
    "X staibilzers is given by $(H_r \\otimes 1 ~ | ~ 1 \\otimes H_r^T ) $ which is a L^2 x 2L^2 matrix "
   ]
  },
  {
   "cell_type": "code",
   "execution_count": 3,
   "metadata": {},
   "outputs": [],
   "source": [
    "def toric_code_x_logicals(L):\n",
    "    \"\"\"\n",
    "    Sparse binary matrix with each row corresponding to an X logical operator\n",
    "    of a toric code with lattice size L. Constructed from the\n",
    "    homology groups of the repetition codes using the Kunneth\n",
    "    theorem.\n",
    "    \"\"\"\n",
    "    H1 = csc_matrix(([1], ([0],[0])), shape=(1,L), dtype=np.uint8)\n",
    "    H0 = csc_matrix(np.ones((1, L), dtype=np.uint8))\n",
    "    x_logicals = block_diag([kron(H1, H0), kron(H0, H1)])\n",
    "    x_logicals.data = x_logicals.data % 2\n",
    "    x_logicals.eliminate_zeros()\n",
    "    return csc_matrix(x_logicals)"
   ]
  },
  {
   "cell_type": "markdown",
   "metadata": {},
   "source": [
    "# Lets simulate some stuff "
   ]
  },
  {
   "cell_type": "code",
   "execution_count": 4,
   "metadata": {},
   "outputs": [],
   "source": [
    "N = 8\n",
    "p = .1\n",
    "\n",
    "H = toric_code_x_stabilisers(N)\n",
    "LH = toric_code_x_logicals(N)"
   ]
  },
  {
   "cell_type": "code",
   "execution_count": 5,
   "metadata": {},
   "outputs": [],
   "source": [
    "from pymatching import Matching\n",
    "matching=Matching(H,weights=np.log((1-p)/p))"
   ]
  },
  {
   "cell_type": "code",
   "execution_count": 6,
   "metadata": {},
   "outputs": [
    {
     "name": "stdout",
     "output_type": "stream",
     "text": [
      "Prediction was  True\n"
     ]
    }
   ],
   "source": [
    "noise = np.random.binomial(1,p,H.shape[1])\n",
    "\n",
    "syndrome = H @ noise%2\n",
    "predicted_noise = matching.decode(syndrome)\n",
    "\n",
    "logical_flip_pred = LH @ predicted_noise % 2\n",
    "logical_flip_result = LH @ noise % 2\n",
    "\n",
    "print('Prediction was ', (logical_flip_pred == logical_flip_result).all())"
   ]
  },
  {
   "cell_type": "code",
   "execution_count": 7,
   "metadata": {},
   "outputs": [
    {
     "data": {
      "text/plain": [
       "{'fault_ids': {0}, 'weight': 2.1972245773362196, 'error_probability': -1.0}"
      ]
     },
     "execution_count": 7,
     "metadata": {},
     "output_type": "execute_result"
    }
   ],
   "source": [
    "import networkx as nx\n",
    "graph_mat = matching.to_networkx()\n",
    "#nx.draw(graph_mat, with_labels = True)\n",
    "graph_mat.edges[0,56]\n"
   ]
  },
  {
   "cell_type": "markdown",
   "metadata": {},
   "source": [
    "Lets do some bonafide simulation:"
   ]
  },
  {
   "cell_type": "code",
   "execution_count": 8,
   "metadata": {},
   "outputs": [],
   "source": [
    "import time"
   ]
  },
  {
   "cell_type": "code",
   "execution_count": 9,
   "metadata": {},
   "outputs": [
    {
     "name": "stdout",
     "output_type": "stream",
     "text": [
      "Failute rate was 0.26280000000000003\n"
     ]
    }
   ],
   "source": [
    "N_shots = 50000\n",
    "N_corr = 0\n",
    "for _ in range(N_shots):\n",
    "    noise = np.random.binomial(1,p,H.shape[1])\n",
    "\n",
    "    syndrome = H @ noise%2\n",
    "    predicted_noise = matching.decode(syndrome)\n",
    "\n",
    "    logical_flip_pred = LH @ predicted_noise % 2\n",
    "    logical_flip_result = LH @ noise % 2\n",
    "\n",
    "    if (logical_flip_pred == logical_flip_result).all():\n",
    "        N_corr +=1\n",
    "\n",
    "print('Failute rate was', 1- N_corr/N_shots)"
   ]
  },
  {
   "cell_type": "markdown",
   "metadata": {},
   "source": [
    "Now lets find phase tansition:"
   ]
  },
  {
   "cell_type": "code",
   "execution_count": 10,
   "metadata": {},
   "outputs": [],
   "source": [
    "N_shots = 10000\n",
    "\n",
    "L = np.array([4,8,12])\n",
    "prob = np.array([.01 * i for i in range(16)])\n",
    "\n",
    "Error_Mat = np.zeros((L.shape[0], prob.shape[0]))\n",
    "\n",
    "for l in L:\n",
    "    H = toric_code_x_stabilisers(l)\n",
    "    LH = toric_code_x_logicals(l)\n",
    "\n",
    "    matching = Matching(H, weights=np.log((1-p)/p), faults_matrix=LH)\n",
    "\n",
    "    for p in prob:\n",
    "        N_corr = 0\n",
    "\n",
    "        for _ in range(N_shots):\n",
    "            noise = np.random.binomial(1,2*p,H.shape[1])\n",
    "\n",
    "            syndrome = H @ noise%2\n",
    "            logical_flip_pred = matching.decode(syndrome)\n",
    "\n",
    "            logical_flip_result = LH @ noise % 2\n",
    "\n",
    "            if (logical_flip_pred == logical_flip_result).all():\n",
    "                N_corr +=1\n",
    "\n",
    "        Error_Mat[np.argwhere(L==l),np.argwhere(prob == p)] = 1- N_corr/N_shots \n",
    "            \n",
    "        \n",
    "\n"
   ]
  },
  {
   "cell_type": "code",
   "execution_count": 11,
   "metadata": {},
   "outputs": [
    {
     "data": {
      "image/png": "[encoded data removed]",
      "text/plain": [
       "<Figure size 640x480 with 1 Axes>"
      ]
     },
     "metadata": {},
     "output_type": "display_data"
    }
   ],
   "source": [
    "plt.figure()\n",
    "for i in range(L.shape[0]): \n",
    "    plt.plot(prob, Error_Mat[i], '.--', label = L[i])\n",
    "\n",
    "plt.legend()\n",
    "plt.show()"
   ]
  },
  {
   "cell_type": "markdown",
   "metadata": {},
   "source": [
    "# Measurement errors\n",
    "\n",
    "https://pymatching.readthedocs.io/en/stable/toric-code-example.html#Noisy-syndromes"
   ]
  },
  {
   "cell_type": "code",
   "execution_count": 45,
   "metadata": {},
   "outputs": [],
   "source": [
    "N = 8\n",
    "p = .03\n",
    "T=4\n",
    "\n",
    "H = toric_code_x_stabilisers(N)\n",
    "LH = toric_code_x_logicals(N)\n",
    "\n",
    "\n",
    "matching_meas = Matching(H, repetitions = T)"
   ]
  },
  {
   "cell_type": "code",
   "execution_count": 46,
   "metadata": {},
   "outputs": [],
   "source": [
    "num_stabilisers, num_qubits = H.shape\n",
    "noise_new = (np.random.rand(num_qubits, T) < p).astype(np.uint8)\n",
    "noise_cumulative = (np.cumsum(noise_new, 1) % 2).astype(np.uint8)\n",
    "noise_total = noise_cumulative[:,-1]"
   ]
  },
  {
   "cell_type": "code",
   "execution_count": 47,
   "metadata": {},
   "outputs": [
    {
     "data": {
      "text/plain": [
       "array([0, 0, 0, 1, 0, 0, 0, 0, 0, 0, 0, 0, 0, 1, 1, 0, 0, 0, 0, 0, 0, 1,\n",
       "       0, 0, 1, 0, 1, 0, 0, 0, 0, 0, 1, 0, 0, 0, 0, 0, 1, 0, 0, 0, 0, 0,\n",
       "       0, 0, 0, 0, 0, 0, 0, 1, 0, 0, 0, 0, 0, 0, 0, 0, 0, 0, 0, 0, 0, 0,\n",
       "       1, 0, 0, 0, 0, 0, 0, 0, 0, 0, 0, 1, 0, 0, 0, 1, 0, 0, 0, 0, 1, 0,\n",
       "       0, 0, 0, 0, 0, 1, 0, 0, 0, 0, 0, 0, 0, 0, 0, 0, 0, 0, 0, 0, 0, 0,\n",
       "       1, 0, 0, 0, 0, 0, 0, 0, 0, 0, 0, 0, 0, 0, 0, 0, 0, 1], dtype=uint8)"
      ]
     },
     "execution_count": 47,
     "metadata": {},
     "output_type": "execute_result"
    }
   ],
   "source": [
    "syndrome = H@noise_cumulative % 2\n",
    "syndrome_error = (np.random.rand(num_stabilisers, T) < p).astype(np.uint8)\n",
    "syndrome_error[:,-1] = 0 # Perfect measurements in last round to ensure even parity\n",
    "noisy_syndrome = (syndrome + syndrome_error) % 2\n",
    "noisy_syndrome[:,1:] = (noisy_syndrome[:,1:] - noisy_syndrome[:,0:-1]) % 2\n",
    "\n",
    "matching = Matching(H, weights=np.log((1-p)/p),\n",
    "                repetitions=T, timelike_weights=np.log((1-p)/p), faults_matrix=None)\n",
    "\n",
    "matching.decode(noisy_syndrome)"
   ]
  },
  {
   "cell_type": "code",
   "execution_count": 56,
   "metadata": {},
   "outputs": [
    {
     "data": {
      "text/plain": [
       "(64, 4)"
      ]
     },
     "execution_count": 56,
     "metadata": {},
     "output_type": "execute_result"
    }
   ],
   "source": [
    "noisy_syndrome.shape"
   ]
  },
  {
   "cell_type": "code",
   "execution_count": 49,
   "metadata": {},
   "outputs": [],
   "source": [
    "def num_decoding_failures_noisy_syndromes(H, logicals, p, q, num_shots, repetitions):\n",
    "    matching = Matching(H, weights=np.log((1-p)/p),\n",
    "                repetitions=repetitions, timelike_weights=np.log((1-q)/q), faults_matrix=None)\n",
    "    num_stabilisers, num_qubits = H.shape\n",
    "    num_errors = 0\n",
    "    for i in range(num_shots):\n",
    "        noise_new = (np.random.rand(num_qubits, repetitions) < p).astype(np.uint8)\n",
    "        noise_cumulative = (np.cumsum(noise_new, 1) % 2).astype(np.uint8)\n",
    "        noise_total = noise_cumulative[:,-1]\n",
    "        syndrome = H@noise_cumulative % 2\n",
    "        syndrome_error = (np.random.rand(num_stabilisers, repetitions) < q).astype(np.uint8)\n",
    "        syndrome_error[:,-1] = 0 # Perfect measurements in last round to ensure even parity\n",
    "        noisy_syndrome = (syndrome + syndrome_error) % 2\n",
    "        # Convert to difference syndrome\n",
    "        noisy_syndrome[:,1:] = (noisy_syndrome[:,1:] - noisy_syndrome[:,0:-1]) % 2\n",
    "        predicted_logicals_flipped = matching.decode(noisy_syndrome)\n",
    "        actual_logicals_flipped = noise_total@logicals.T % 2\n",
    "        if not np.array_equal(predicted_logicals_flipped, actual_logicals_flipped):\n",
    "            num_errors += 1\n",
    "    #return num_errors\n",
    "    return predicted_logicals_flipped, noisy_syndrome\n"
   ]
  },
  {
   "cell_type": "code",
   "execution_count": 50,
   "metadata": {},
   "outputs": [],
   "source": [
    "A = num_decoding_failures_noisy_syndromes(H, LH, p, .02, 100, 5)\n"
   ]
  },
  {
   "cell_type": "code",
   "execution_count": 51,
   "metadata": {},
   "outputs": [
    {
     "data": {
      "text/plain": [
       "(64, 5)"
      ]
     },
     "execution_count": 51,
     "metadata": {},
     "output_type": "execute_result"
    }
   ],
   "source": [
    "A[1].shape"
   ]
  },
  {
   "cell_type": "code",
   "execution_count": 52,
   "metadata": {},
   "outputs": [
    {
     "data": {
      "text/plain": [
       "(64, 128)"
      ]
     },
     "execution_count": 52,
     "metadata": {},
     "output_type": "execute_result"
    }
   ],
   "source": [
    "H.toarray().shape"
   ]
  },
  {
   "cell_type": "code",
   "execution_count": null,
   "metadata": {},
   "outputs": [],
   "source": []
  }
 ],
 "metadata": {
  "kernelspec": {
   "display_name": "Python 3.10.8 64-bit",
   "language": "python",
   "name": "python3"
  },
  "language_info": {
   "codemirror_mode": {
    "name": "ipython",
    "version": 3
   },
   "file_extension": ".py",
   "mimetype": "text/x-python",
   "name": "python",
   "nbconvert_exporter": "python",
   "pygments_lexer": "ipython3",
   "version": "3.10.8"
  },
  "orig_nbformat": 4,
  "vscode": {
   "interpreter": {
    "hash": "aee8b7b246df8f9039afb4144a1f6fd8d2ca17a180786b69acc140d282b71a49"
   }
  }
 },
 "nbformat": 4,
 "nbformat_minor": 2
}
