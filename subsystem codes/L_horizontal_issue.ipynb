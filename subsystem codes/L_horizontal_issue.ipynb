{
 "cells": [
  {
   "cell_type": "code",
   "execution_count": 1,
   "metadata": {},
   "outputs": [],
   "source": [
    "import matplotlib.pyplot as plt\n",
    "import numpy as np\n",
    "from typing import Callable, List, Dict, Any, Set, FrozenSet, Iterable, Tuple\n",
    "import math\n",
    "import random\n",
    "import networkx as nx\n",
    "import sympy as sym\n",
    "\n",
    "import os\n",
    "import galois\n",
    "\n",
    "from HC_ZN_functions import *"
   ]
  },
  {
   "cell_type": "code",
   "execution_count": 2,
   "metadata": {},
   "outputs": [],
   "source": [
    "from joblib import Parallel, delayed\n",
    "\n",
    "import time "
   ]
  },
  {
   "cell_type": "code",
   "execution_count": 3,
   "metadata": {},
   "outputs": [],
   "source": [
    "def sim_code(code,p):\n",
    "    commutator = lambda a,b: (a[0] @ b[0] - a[1]@b[1]) % code.q\n",
    "    \n",
    "    counter = 0\n",
    "    code.make_error(p)\n",
    "    code.final_pauli(my_HC_decoder(code,code.E)[0])\n",
    "\n",
    "    if commutator(code.error_XZ, code.L1vf) != 0: # or commutator(code.L1h, code.error_XZ) !=0: \n",
    "        counter +=1\n",
    "\n",
    "    return counter"
   ]
  },
  {
   "cell_type": "code",
   "execution_count": 4,
   "metadata": {},
   "outputs": [
    {
     "data": {
      "text/plain": [
       "[((1+2j), 'X'),\n",
       " ((3+2j), 'Y'),\n",
       " ((1+1j), 'X dag'),\n",
       " ((3+1j), 'Y dag'),\n",
       " ((5+2j), 'X'),\n",
       " ((7+2j), 'Y'),\n",
       " ((5+1j), 'X dag'),\n",
       " ((7+1j), 'Y dag')]"
      ]
     },
     "execution_count": 4,
     "metadata": {},
     "output_type": "execute_result"
    }
   ],
   "source": [
    "code1 = HC_code(2,2,2)\n",
    "code1.make_tanner_graph()\n",
    "code1.make_H()\n",
    "code1.logicals()\n",
    "code1.parity_check_physical()\n",
    "\n",
    "code1.h_sites_f"
   ]
  },
  {
   "cell_type": "code",
   "execution_count": 5,
   "metadata": {},
   "outputs": [
    {
     "data": {
      "text/plain": [
       "0"
      ]
     },
     "execution_count": 5,
     "metadata": {},
     "output_type": "execute_result"
    }
   ],
   "source": [
    "sim_code(code1, .01)"
   ]
  },
  {
   "cell_type": "markdown",
   "metadata": {},
   "source": []
  },
  {
   "cell_type": "code",
   "execution_count": 6,
   "metadata": {},
   "outputs": [],
   "source": [
    "commutator = lambda a,b: (a[0] @ b[0] - a[1]@b[1]) % code1.q"
   ]
  },
  {
   "cell_type": "code",
   "execution_count": 7,
   "metadata": {},
   "outputs": [
    {
     "data": {
      "text/plain": [
       "array([0., 0., 0., 0., 0., 0., 0., 0., 0., 0., 0., 0., 0., 0., 0., 0., 0.,\n",
       "       0., 0., 0., 0., 0., 0., 0.])"
      ]
     },
     "execution_count": 7,
     "metadata": {},
     "output_type": "execute_result"
    }
   ],
   "source": [
    "commutator(code1.HC_parity_check, code1.L1hf)"
   ]
  },
  {
   "cell_type": "code",
   "execution_count": 8,
   "metadata": {},
   "outputs": [
    {
     "data": {
      "text/plain": [
       "array([[0, 0, 0, 0, 0, 0, 0, 0, 0, 0, 0, 0, 0, 1, 1, 0, 0, 0, 0, 0, 0, 0,\n",
       "        0, 0, 0, 0, 0, 0, 0, 0, 0, 0, 0, 0, 0, 0, 0, 1, 1, 0, 0, 0, 0, 0,\n",
       "        0, 0, 0, 0],\n",
       "       [0, 1, 1, 0, 0, 0, 0, 0, 0, 0, 0, 0, 0, 1, 1, 0, 0, 0, 0, 0, 0, 0,\n",
       "        0, 0, 0, 1, 1, 0, 0, 0, 0, 0, 0, 0, 0, 0, 0, 1, 1, 0, 0, 0, 0, 0,\n",
       "        0, 0, 0, 0]])"
      ]
     },
     "execution_count": 8,
     "metadata": {},
     "output_type": "execute_result"
    }
   ],
   "source": [
    "code1.L1hf"
   ]
  },
  {
   "cell_type": "code",
   "execution_count": 9,
   "metadata": {},
   "outputs": [
    {
     "data": {
      "text/plain": [
       "array([[[0., 1., 0., ..., 0., 0., 1.],\n",
       "        [0., 0., 0., ..., 0., 0., 0.],\n",
       "        [0., 0., 1., ..., 0., 0., 0.],\n",
       "        ...,\n",
       "        [0., 0., 0., ..., 0., 0., 0.],\n",
       "        [0., 0., 0., ..., 1., 0., 0.],\n",
       "        [0., 0., 0., ..., 0., 0., 0.]],\n",
       "\n",
       "       [[1., 1., 0., ..., 0., 0., 1.],\n",
       "        [0., 0., 0., ..., 0., 0., 0.],\n",
       "        [0., 0., 1., ..., 0., 0., 0.],\n",
       "        ...,\n",
       "        [0., 0., 0., ..., 0., 0., 0.],\n",
       "        [0., 0., 0., ..., 0., 0., 0.],\n",
       "        [0., 0., 0., ..., 0., 0., 0.]]])"
      ]
     },
     "execution_count": 9,
     "metadata": {},
     "output_type": "execute_result"
    }
   ],
   "source": [
    "code1.HC_parity_check"
   ]
  },
  {
   "cell_type": "code",
   "execution_count": 10,
   "metadata": {},
   "outputs": [],
   "source": [
    "distance = 3\n",
    "\n",
    "h_sites_f=[] #(sites, paulis) in horizontal logical, lives on blue edges\n",
    "h_sites_e =[]\n",
    "for n in range(1, 4*distance, 4):\n",
    "    #h_sites_f.append( ((n-2)% (4*distance) + 1j*(6*distance-1), 'Y'))\n",
    "    #h_sites_f.append( ((n)% (4*distance) + 1j*(6*distance-1), 'Y dag'))\n",
    "    #h_sites_f.append( ((n-2)% (4*distance), 'Y dag'))\n",
    "    #h_sites_f.append( ((n)% (4*distance), 'Y'))\n",
    "\n",
    "    h_sites_f.append( ((n)% (4*distance) + 2j, 'X'))\n",
    "    h_sites_f.append( ((n+2)% (4*distance) + 2j, 'X dag'))\n",
    "\n",
    "    h_sites_f.append( ((n)% (4*distance) +1j, 'X dag'))\n",
    "    h_sites_f.append( ((n+2)% (4*distance) +1j, 'X'))\n",
    "\n",
    "    #old logical \n",
    "    h_sites_e.append( ((n-2)% (4*distance) + 2j, 'Y'))\n",
    "    h_sites_e.append( ((n)% (4*distance) + 2j, 'Y dag'))"
   ]
  },
  {
   "cell_type": "code",
   "execution_count": 11,
   "metadata": {},
   "outputs": [
    {
     "data": {
      "text/plain": [
       "[((1+2j), 'X'),\n",
       " ((3+2j), 'X dag'),\n",
       " ((1+1j), 'X dag'),\n",
       " ((3+1j), 'X'),\n",
       " ((5+2j), 'X'),\n",
       " ((7+2j), 'X dag'),\n",
       " ((5+1j), 'X dag'),\n",
       " ((7+1j), 'X'),\n",
       " ((9+2j), 'X'),\n",
       " ((11+2j), 'X dag'),\n",
       " ((9+1j), 'X dag'),\n",
       " ((11+1j), 'X')]"
      ]
     },
     "execution_count": 11,
     "metadata": {},
     "output_type": "execute_result"
    }
   ],
   "source": [
    "h_sites_f"
   ]
  },
  {
   "cell_type": "code",
   "execution_count": null,
   "metadata": {},
   "outputs": [],
   "source": []
  }
 ],
 "metadata": {
  "kernelspec": {
   "display_name": "Python 3.10.8 64-bit",
   "language": "python",
   "name": "python3"
  },
  "language_info": {
   "codemirror_mode": {
    "name": "ipython",
    "version": 3
   },
   "file_extension": ".py",
   "mimetype": "text/x-python",
   "name": "python",
   "nbconvert_exporter": "python",
   "pygments_lexer": "ipython3",
   "version": "3.10.8"
  },
  "orig_nbformat": 4,
  "vscode": {
   "interpreter": {
    "hash": "aee8b7b246df8f9039afb4144a1f6fd8d2ca17a180786b69acc140d282b71a49"
   }
  }
 },
 "nbformat": 4,
 "nbformat_minor": 2
}
